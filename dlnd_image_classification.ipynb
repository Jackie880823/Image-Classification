{
 "cells": [
  {
   "cell_type": "markdown",
   "metadata": {
    "collapsed": true
   },
   "source": [
    "# Image Classification\n",
    "In this project, you'll classify images from the [CIFAR-10 dataset](https://www.cs.toronto.edu/~kriz/cifar.html).  The dataset consists of airplanes, dogs, cats, and other objects. You'll preprocess the images, then train a convolutional neural network on all the samples. The images need to be normalized and the labels need to be one-hot encoded.  You'll get to apply what you learned and build a convolutional, max pooling, dropout, and fully connected layers.  At the end, you'll get to see your neural network's predictions on the sample images.\n",
    "## Get the Data\n",
    "Run the following cell to download the [CIFAR-10 dataset for python](https://www.cs.toronto.edu/~kriz/cifar-10-python.tar.gz)."
   ]
  },
  {
   "cell_type": "code",
   "execution_count": 2,
   "metadata": {
    "collapsed": false
   },
   "outputs": [
    {
     "name": "stdout",
     "output_type": "stream",
     "text": [
      "All files found!\n"
     ]
    }
   ],
   "source": [
    "\"\"\"\n",
    "DON'T MODIFY ANYTHING IN THIS CELL THAT IS BELOW THIS LINE\n",
    "\"\"\"\n",
    "from urllib.request import urlretrieve\n",
    "from os.path import isfile, isdir\n",
    "from tqdm import tqdm\n",
    "import problem_unittests as tests\n",
    "import tarfile\n",
    "\n",
    "cifar10_dataset_folder_path = 'cifar-10-batches-py'\n",
    "\n",
    "class DLProgress(tqdm):\n",
    "    last_block = 0\n",
    "\n",
    "    def hook(self, block_num=1, block_size=1, total_size=None):\n",
    "        self.total = total_size\n",
    "        self.update((block_num - self.last_block) * block_size)\n",
    "        self.last_block = block_num\n",
    "\n",
    "if not isfile('cifar-10-python.tar.gz'):\n",
    "    with DLProgress(unit='B', unit_scale=True, miniters=1, desc='CIFAR-10 Dataset') as pbar:\n",
    "        urlretrieve(\n",
    "            'https://www.cs.toronto.edu/~kriz/cifar-10-python.tar.gz',\n",
    "            'cifar-10-python.tar.gz',\n",
    "            pbar.hook)\n",
    "\n",
    "if not isdir(cifar10_dataset_folder_path):\n",
    "    with tarfile.open('cifar-10-python.tar.gz') as tar:\n",
    "        tar.extractall()\n",
    "        tar.close()\n",
    "\n",
    "\n",
    "tests.test_folder_path(cifar10_dataset_folder_path)"
   ]
  },
  {
   "cell_type": "markdown",
   "metadata": {},
   "source": [
    "## Explore the Data\n",
    "The dataset is broken into batches to prevent your machine from running out of memory.  The CIFAR-10 dataset consists of 5 batches, named `data_batch_1`, `data_batch_2`, etc.. Each batch contains the labels and images that are one of the following:\n",
    "* airplane\n",
    "* automobile\n",
    "* bird\n",
    "* cat\n",
    "* deer\n",
    "* dog\n",
    "* frog\n",
    "* horse\n",
    "* ship\n",
    "* truck\n",
    "\n",
    "Understanding a dataset is part of making predictions on the data.  Play around with the code cell below by changing the `batch_id` and `sample_id`. The `batch_id` is the id for a batch (1-5). The `sample_id` is the id for a image and label pair in the batch.\n",
    "\n",
    "Ask yourself \"What are all possible labels?\", \"What is the range of values for the image data?\", \"Are the labels in order or random?\".  Answers to questions like these will help you preprocess the data and end up with better predictions."
   ]
  },
  {
   "cell_type": "code",
   "execution_count": 3,
   "metadata": {
    "collapsed": false
   },
   "outputs": [
    {
     "name": "stdout",
     "output_type": "stream",
     "text": [
      "\n",
      "Stats of batch 1:\n",
      "Samples: 10000\n",
      "Label Counts: {0: 1005, 1: 974, 2: 1032, 3: 1016, 4: 999, 5: 937, 6: 1030, 7: 1001, 8: 1025, 9: 981}\n",
      "First 20 Labels: [6, 9, 9, 4, 1, 1, 2, 7, 8, 3, 4, 7, 7, 2, 9, 9, 9, 3, 2, 6]\n",
      "\n",
      "Example of Image 5:\n",
      "Image - Min Value: 0 Max Value: 252\n",
      "Image - Shape: (32, 32, 3)\n",
      "Label - Label Id: 1 Name: automobile\n"
     ]
    },
    {
     "data": {
      "image/png": "[encoded data removed]",
      "text/plain": [
       "<matplotlib.figure.Figure at 0x11f024fd0>"
      ]
     },
     "metadata": {
      "image/png": {
       "height": 250,
       "width": 253
      }
     },
     "output_type": "display_data"
    }
   ],
   "source": [
    "%matplotlib inline\n",
    "%config InlineBackend.figure_format = 'retina'\n",
    "\n",
    "import helper\n",
    "import numpy as np\n",
    "\n",
    "# Explore the dataset\n",
    "batch_id = 1\n",
    "sample_id = 5\n",
    "helper.display_stats(cifar10_dataset_folder_path, batch_id, sample_id)"
   ]
  },
  {
   "cell_type": "markdown",
   "metadata": {},
   "source": [
    "## Implement Preprocess Functions\n",
    "### Normalize\n",
    "In the cell below, implement the `normalize` function to take in image data, `x`, and return it as a normalized Numpy array. The values should be in the range of 0 to 1, inclusive.  The return object should be the same shape as `x`."
   ]
  },
  {
   "cell_type": "code",
   "execution_count": 5,
   "metadata": {
    "collapsed": false
   },
   "outputs": [
    {
     "name": "stdout",
     "output_type": "stream",
     "text": [
      "Tests Passed\n"
     ]
    }
   ],
   "source": [
    "def normalize(x):\n",
    "    \"\"\"\n",
    "    Normalize a list of sample image data in the range of 0 to 1\n",
    "    : x: List of image data.  The image shape is (32, 32, 3)\n",
    "    : return: Numpy array of normalize data\n",
    "    \"\"\"\n",
    "    # TODO: Implement Function\n",
    "    return np.array(x/255.0)\n",
    "\n",
    "\n",
    "\"\"\"\n",
    "DON'T MODIFY ANYTHING IN THIS CELL THAT IS BELOW THIS LINE\n",
    "\"\"\"\n",
    "tests.test_normalize(normalize)"
   ]
  },
  {
   "cell_type": "markdown",
   "metadata": {},
   "source": [
    "### One-hot encode\n",
    "Just like the previous code cell, you'll be implementing a function for preprocessing.  This time, you'll implement the `one_hot_encode` function. The input, `x`, are a list of labels.  Implement the function to return the list of labels as One-Hot encoded Numpy array.  The possible values for labels are 0 to 9. The one-hot encoding function should return the same encoding for each value between each call to `one_hot_encode`.  Make sure to save the map of encodings outside the function.\n",
    "\n",
    "Hint: Don't reinvent the wheel."
   ]
  },
  {
   "cell_type": "code",
   "execution_count": 9,
   "metadata": {
    "collapsed": false
   },
   "outputs": [
    {
     "name": "stdout",
     "output_type": "stream",
     "text": [
      "Tests Passed\n"
     ]
    }
   ],
   "source": [
    "def one_hot_encode(x):\n",
    "    \"\"\"\n",
    "    One hot encode a list of sample labels. Return a one-hot encoded vector for each label.\n",
    "    : x: List of sample Labels\n",
    "    : return: Numpy array of one-hot encoded labels\n",
    "    \"\"\"\n",
    "    # TODO: Implement Function\n",
    "    one_hot_encode = np.zeros((len(x), max(x)+1))\n",
    "    one_hot_encode[np.arange(len(x)), x] = 1\n",
    "    return one_hot_encode\n",
    "\n",
    "\n",
    "\"\"\"\n",
    "DON'T MODIFY ANYTHING IN THIS CELL THAT IS BELOW THIS LINE\n",
    "\"\"\"\n",
    "tests.test_one_hot_encode(one_hot_encode)"
   ]
  },
  {
   "cell_type": "markdown",
   "metadata": {},
   "source": [
    "### Randomize Data\n",
    "As you saw from exploring the data above, the order of the samples are randomized.  It doesn't hurt to randomize it again, but you don't need to for this dataset."
   ]
  },
  {
   "cell_type": "markdown",
   "metadata": {},
   "source": [
    "## Preprocess all the data and save it\n",
    "Running the code cell below will preprocess all the CIFAR-10 data and save it to file. The code below also uses 10% of the training data for validation."
   ]
  },
  {
   "cell_type": "code",
   "execution_count": 10,
   "metadata": {
    "collapsed": false
   },
   "outputs": [],
   "source": [
    "\"\"\"\n",
    "DON'T MODIFY ANYTHING IN THIS CELL\n",
    "\"\"\"\n",
    "# Preprocess Training, Validation, and Testing Data\n",
    "helper.preprocess_and_save_data(cifar10_dataset_folder_path, normalize, one_hot_encode)"
   ]
  },
  {
   "cell_type": "markdown",
   "metadata": {},
   "source": [
    "# Check Point\n",
    "This is your first checkpoint.  If you ever decide to come back to this notebook or have to restart the notebook, you can start from here.  The preprocessed data has been saved to disk."
   ]
  },
  {
   "cell_type": "code",
   "execution_count": 11,
   "metadata": {
    "collapsed": true
   },
   "outputs": [],
   "source": [
    "\"\"\"\n",
    "DON'T MODIFY ANYTHING IN THIS CELL\n",
    "\"\"\"\n",
    "import pickle\n",
    "import problem_unittests as tests\n",
    "import helper\n",
    "\n",
    "# Load the Preprocessed Validation data\n",
    "valid_features, valid_labels = pickle.load(open('preprocess_validation.p', mode='rb'))"
   ]
  },
  {
   "cell_type": "markdown",
   "metadata": {},
   "source": [
    "## Build the network\n",
    "For the neural network, you'll build each layer into a function.  Most of the code you've seen has been outside of functions. To test your code more thoroughly, we require that you put each layer in a function.  This allows us to give you better feedback and test for simple mistakes using our unittests before you submit your project.\n",
    "\n",
    ">**Note:** If you're finding it hard to dedicate enough time for this course each week, we've provided a small shortcut to this part of the project. In the next couple of problems, you'll have the option to use classes from the [TensorFlow Layers](https://www.tensorflow.org/api_docs/python/tf/layers) or [TensorFlow Layers (contrib)](https://www.tensorflow.org/api_guides/python/contrib.layers) packages to build each layer, except the layers you build in the \"Convolutional and Max Pooling Layer\" section.  TF Layers is similar to Keras's and TFLearn's abstraction to layers, so it's easy to pickup.\n",
    "\n",
    ">However, if you would like to get the most out of this course, try to solve all the problems _without_ using anything from the TF Layers packages. You **can** still use classes from other packages that happen to have the same name as ones you find in TF Layers! For example, instead of using the TF Layers version of the `conv2d` class, [tf.layers.conv2d](https://www.tensorflow.org/api_docs/python/tf/layers/conv2d), you would want to use the TF Neural Network version of `conv2d`, [tf.nn.conv2d](https://www.tensorflow.org/api_docs/python/tf/nn/conv2d). \n",
    "\n",
    "Let's begin!\n",
    "\n",
    "### Input\n",
    "The neural network needs to read the image data, one-hot encoded labels, and dropout keep probability. Implement the following functions\n",
    "* Implement `neural_net_image_input`\n",
    " * Return a [TF Placeholder](https://www.tensorflow.org/api_docs/python/tf/placeholder)\n",
    " * Set the shape using `image_shape` with batch size set to `None`.\n",
    " * Name the TensorFlow placeholder \"x\" using the TensorFlow `name` parameter in the [TF Placeholder](https://www.tensorflow.org/api_docs/python/tf/placeholder).\n",
    "* Implement `neural_net_label_input`\n",
    " * Return a [TF Placeholder](https://www.tensorflow.org/api_docs/python/tf/placeholder)\n",
    " * Set the shape using `n_classes` with batch size set to `None`.\n",
    " * Name the TensorFlow placeholder \"y\" using the TensorFlow `name` parameter in the [TF Placeholder](https://www.tensorflow.org/api_docs/python/tf/placeholder).\n",
    "* Implement `neural_net_keep_prob_input`\n",
    " * Return a [TF Placeholder](https://www.tensorflow.org/api_docs/python/tf/placeholder) for dropout keep probability.\n",
    " * Name the TensorFlow placeholder \"keep_prob\" using the TensorFlow `name` parameter in the [TF Placeholder](https://www.tensorflow.org/api_docs/python/tf/placeholder).\n",
    "\n",
    "These names will be used at the end of the project to load your saved model.\n",
    "\n",
    "Note: `None` for shapes in TensorFlow allow for a dynamic size."
   ]
  },
  {
   "cell_type": "code",
   "execution_count": 14,
   "metadata": {
    "collapsed": false
   },
   "outputs": [
    {
     "name": "stdout",
     "output_type": "stream",
     "text": [
      "Image Input Tests Passed.\n",
      "Label Input Tests Passed.\n",
      "Keep Prob Tests Passed.\n"
     ]
    }
   ],
   "source": [
    "import tensorflow as tf\n",
    "\n",
    "def neural_net_image_input(image_shape):\n",
    "    \"\"\"\n",
    "    Return a Tensor for a bach of image input\n",
    "    : image_shape: Shape of the images\n",
    "    : return: Tensor for image input.\n",
    "    \"\"\"\n",
    "    # TODO: Implement Function\n",
    "    return tf.placeholder(tf.float32, (None, image_shape[0], image_shape[1], image_shape[2]), name='x')\n",
    "\n",
    "\n",
    "def neural_net_label_input(n_classes):\n",
    "    \"\"\"\n",
    "    Return a Tensor for a batch of label input\n",
    "    : n_classes: Number of classes\n",
    "    : return: Tensor for label input.\n",
    "    \"\"\"\n",
    "    # TODO: Implement Function\n",
    "    return tf.placeholder(tf.float32, [None, n_classes], name='y')\n",
    "\n",
    "\n",
    "def neural_net_keep_prob_input():\n",
    "    \"\"\"\n",
    "    Return a Tensor for keep probability\n",
    "    : return: Tensor for keep probability.\n",
    "    \"\"\"\n",
    "    # TODO: Implement Function\n",
    "    return tf.placeholder(tf.float32, name='keep_prob')\n",
    "\n",
    "\n",
    "\"\"\"\n",
    "DON'T MODIFY ANYTHING IN THIS CELL THAT IS BELOW THIS LINE\n",
    "\"\"\"\n",
    "tf.reset_default_graph()\n",
    "tests.test_nn_image_inputs(neural_net_image_input)\n",
    "tests.test_nn_label_inputs(neural_net_label_input)\n",
    "tests.test_nn_keep_prob_inputs(neural_net_keep_prob_input)"
   ]
  },
  {
   "cell_type": "markdown",
   "metadata": {},
   "source": [
    "### Convolution and Max Pooling Layer\n",
    "Convolution layers have a lot of success with images. For this code cell, you should implement the function `conv2d_maxpool` to apply convolution then max pooling:\n",
    "* Create the weight and bias using `conv_ksize`, `conv_num_outputs` and the shape of `x_tensor`.\n",
    "* Apply a convolution to `x_tensor` using weight and `conv_strides`.\n",
    " * We recommend you use same padding, but you're welcome to use any padding.\n",
    "* Add bias\n",
    "* Add a nonlinear activation to the convolution.\n",
    "* Apply Max Pooling using `pool_ksize` and `pool_strides`.\n",
    " * We recommend you use same padding, but you're welcome to use any padding.\n",
    "\n",
    "**Note:** You **can't** use [TensorFlow Layers](https://www.tensorflow.org/api_docs/python/tf/layers) or [TensorFlow Layers (contrib)](https://www.tensorflow.org/api_guides/python/contrib.layers) for **this** layer, but you can still use TensorFlow's [Neural Network](https://www.tensorflow.org/api_docs/python/tf/nn) package. You may still use the shortcut option for all the **other** layers."
   ]
  },
  {
   "cell_type": "code",
   "execution_count": 15,
   "metadata": {
    "collapsed": false
   },
   "outputs": [
    {
     "name": "stdout",
     "output_type": "stream",
     "text": [
      "Tests Passed\n"
     ]
    }
   ],
   "source": [
    "def conv2d_maxpool(x_tensor, conv_num_outputs, conv_ksize, conv_strides, pool_ksize, pool_strides):\n",
    "    \"\"\"\n",
    "    Apply convolution then max pooling to x_tensor\n",
    "    :param x_tensor: TensorFlow Tensor\n",
    "    :param conv_num_outputs: Number of outputs for the convolutional layer\n",
    "    :param conv_ksize: kernal size 2-D Tuple for the convolutional layer\n",
    "    :param conv_strides: Stride 2-D Tuple for convolution\n",
    "    :param pool_ksize: kernal size 2-D Tuple for pool\n",
    "    :param pool_strides: Stride 2-D Tuple for pool\n",
    "    : return: A tensor that represents convolution and max pooling of x_tensor\n",
    "    \"\"\"\n",
    "    # TODO: Implement Function\n",
    "    filter_weights = tf.Variable(tf.truncated_normal((conv_ksize[0], conv_ksize[1], \n",
    "                                                      int(x_tensor.shape[3]), conv_num_outputs), stddev=0.1))\n",
    "    filter_bias = tf.Variable(tf.zeros([conv_num_outputs]))\n",
    "    conv_layer = tf.nn.conv2d(x_tensor, filter_weights, \n",
    "                              strides = [1, conv_strides[0], conv_strides[1], 1], \n",
    "                              padding='SAME')\n",
    "    conv_layer = tf.nn.bias_add(conv_layer, filter_bias)\n",
    "    conv_layer = tf.nn.max_pool(conv_layer, \n",
    "                                ksize = [1, pool_ksize[0], pool_ksize[1], 1],\n",
    "                                strides = [1, pool_strides[0], pool_strides[1], 1],\n",
    "                                padding='SAME')\n",
    "    conv_layer = tf.nn.relu(conv_layer)\n",
    "    return conv_layer \n",
    "\n",
    "\n",
    "\"\"\"\n",
    "DON'T MODIFY ANYTHING IN THIS CELL THAT IS BELOW THIS LINE\n",
    "\"\"\"\n",
    "tests.test_con_pool(conv2d_maxpool)"
   ]
  },
  {
   "cell_type": "markdown",
   "metadata": {},
   "source": [
    "### Flatten Layer\n",
    "Implement the `flatten` function to change the dimension of `x_tensor` from a 4-D tensor to a 2-D tensor.  The output should be the shape (*Batch Size*, *Flattened Image Size*). Shortcut option: you can use classes from the [TensorFlow Layers](https://www.tensorflow.org/api_docs/python/tf/layers) or [TensorFlow Layers (contrib)](https://www.tensorflow.org/api_guides/python/contrib.layers) packages for this layer. For more of a challenge, only use other TensorFlow packages."
   ]
  },
  {
   "cell_type": "code",
   "execution_count": 16,
   "metadata": {
    "collapsed": false
   },
   "outputs": [
    {
     "name": "stdout",
     "output_type": "stream",
     "text": [
      "Tests Passed\n"
     ]
    }
   ],
   "source": [
    "def flatten(x_tensor):\n",
    "    \"\"\"\n",
    "    Flatten x_tensor to (Batch Size, Flattened Image Size)\n",
    "    : x_tensor: A tensor of size (Batch Size, ...), where ... are the image dimensions.\n",
    "    : return: A tensor of size (Batch Size, Flattened Image Size).\n",
    "    \"\"\"\n",
    "    # TODO: Implement Function\n",
    "    return tf.contrib.layers.flatten(x_tensor)\n",
    "\n",
    "\n",
    "\"\"\"\n",
    "DON'T MODIFY ANYTHING IN THIS CELL THAT IS BELOW THIS LINE\n",
    "\"\"\"\n",
    "tests.test_flatten(flatten)"
   ]
  },
  {
   "cell_type": "markdown",
   "metadata": {},
   "source": [
    "### Fully-Connected Layer\n",
    "Implement the `fully_conn` function to apply a fully connected layer to `x_tensor` with the shape (*Batch Size*, *num_outputs*). Shortcut option: you can use classes from the [TensorFlow Layers](https://www.tensorflow.org/api_docs/python/tf/layers) or [TensorFlow Layers (contrib)](https://www.tensorflow.org/api_guides/python/contrib.layers) packages for this layer. For more of a challenge, only use other TensorFlow packages."
   ]
  },
  {
   "cell_type": "code",
   "execution_count": 18,
   "metadata": {
    "collapsed": false
   },
   "outputs": [
    {
     "name": "stdout",
     "output_type": "stream",
     "text": [
      "Tests Passed\n"
     ]
    }
   ],
   "source": [
    "def fully_conn(x_tensor, num_outputs):\n",
    "    \"\"\"\n",
    "    Apply a fully connected layer to x_tensor using weight and bias\n",
    "    : x_tensor: A 2-D tensor where the first dimension is batch size.\n",
    "    : num_outputs: The number of output that the new tensor should be.\n",
    "    : return: A 2-D tensor where the second dimension is num_outputs.\n",
    "    \"\"\"\n",
    "    # TODO: Implement Function\n",
    "    image_size = x_tensor.get_shape().as_list()[1]\n",
    "    weights = tf.Variable(tf.truncated_normal(([image_size, num_outputs]), stddev=0.1))\n",
    "    bias = tf.Variable(tf.zeros(num_outputs))\n",
    "    result = tf.add(tf.matmul(x_tensor, weights), bias)\n",
    "    result = tf.nn.relu(result)\n",
    "    return result\n",
    "\n",
    "\n",
    "\"\"\"\n",
    "DON'T MODIFY ANYTHING IN THIS CELL THAT IS BELOW THIS LINE\n",
    "\"\"\"\n",
    "tests.test_fully_conn(fully_conn)"
   ]
  },
  {
   "cell_type": "markdown",
   "metadata": {},
   "source": [
    "### Output Layer\n",
    "Implement the `output` function to apply a fully connected layer to `x_tensor` with the shape (*Batch Size*, *num_outputs*). Shortcut option: you can use classes from the [TensorFlow Layers](https://www.tensorflow.org/api_docs/python/tf/layers) or [TensorFlow Layers (contrib)](https://www.tensorflow.org/api_guides/python/contrib.layers) packages for this layer. For more of a challenge, only use other TensorFlow packages.\n",
    "\n",
    "**Note:** Activation, softmax, or cross entropy should **not** be applied to this."
   ]
  },
  {
   "cell_type": "code",
   "execution_count": 19,
   "metadata": {
    "collapsed": false
   },
   "outputs": [
    {
     "name": "stdout",
     "output_type": "stream",
     "text": [
      "Tests Passed\n"
     ]
    }
   ],
   "source": [
    "def output(x_tensor, num_outputs):\n",
    "    \"\"\"\n",
    "    Apply a output layer to x_tensor using weight and bias\n",
    "    : x_tensor: A 2-D tensor where the first dimension is batch size.\n",
    "    : num_outputs: The number of output that the new tensor should be.\n",
    "    : return: A 2-D tensor where the second dimension is num_outputs.\n",
    "    \"\"\"\n",
    "    # TODO: Implement Function\n",
    "    image_size = x_tensor.get_shape().as_list()[1]\n",
    "    weights = tf.Variable(tf.truncated_normal(([image_size, num_outputs]), stddev=0.1))\n",
    "    bias = tf.Variable(tf.zeros(num_outputs))\n",
    "    return tf.add(tf.matmul(x_tensor, weights), bias)\n",
    "\n",
    "\"\"\"\n",
    "DON'T MODIFY ANYTHING IN THIS CELL THAT IS BELOW THIS LINE\n",
    "\"\"\"\n",
    "tests.test_output(output)"
   ]
  },
  {
   "cell_type": "markdown",
   "metadata": {},
   "source": [
    "### Create Convolutional Model\n",
    "Implement the function `conv_net` to create a convolutional neural network model. The function takes in a batch of images, `x`, and outputs logits.  Use the layers you created above to create this model:\n",
    "\n",
    "* Apply 1, 2, or 3 Convolution and Max Pool layers\n",
    "* Apply a Flatten Layer\n",
    "* Apply 1, 2, or 3 Fully Connected Layers\n",
    "* Apply an Output Layer\n",
    "* Return the output\n",
    "* Apply [TensorFlow's Dropout](https://www.tensorflow.org/api_docs/python/tf/nn/dropout) to one or more layers in the model using `keep_prob`. "
   ]
  },
  {
   "cell_type": "code",
   "execution_count": 21,
   "metadata": {
    "collapsed": false
   },
   "outputs": [
    {
     "name": "stdout",
     "output_type": "stream",
     "text": [
      "Neural Network Built!\n"
     ]
    }
   ],
   "source": [
    "def conv_net(x, keep_prob):\n",
    "    \"\"\"\n",
    "    Create a convolutional neural network model\n",
    "    : x: Placeholder tensor that holds image data.\n",
    "    : keep_prob: Placeholder tensor that hold dropout keep probability.\n",
    "    : return: Tensor that represents logits\n",
    "    \"\"\"\n",
    "    # TODO: Apply 1, 2, or 3 Convolution and Max Pool layers\n",
    "    #    Play around with different number of outputs, kernel size and stride\n",
    "    # Function Definition from Above:\n",
    "    #    conv2d_maxpool(x_tensor, conv_num_outputs, conv_ksize, conv_strides, pool_ksize, pool_strides) \n",
    "    x_tensor = x\n",
    "    conv_num_outputs = 32\n",
    "    conv_ksize = [2, 2]\n",
    "    conv_strides = [1, 1]\n",
    "    pool_ksize = [2, 2]\n",
    "    pool_strides = [2, 2]\n",
    "    x_tensor = conv2d_maxpool(x_tensor, conv_num_outputs, conv_ksize, conv_strides, pool_ksize, pool_strides)\n",
    "    \n",
    "    conv_num_outputs = 48\n",
    "    x_tensor = conv2d_maxpool(x_tensor, conv_num_outputs, conv_ksize, conv_strides, pool_ksize, pool_strides)\n",
    "    \n",
    "    conv_num_outputs = 64\n",
    "    x_tensor = conv2d_maxpool(x_tensor, conv_num_outputs, conv_ksize, conv_strides, pool_ksize, pool_strides)\n",
    "    \n",
    "\n",
    "    # TODO: Apply a Flatten Layer\n",
    "    # Function Definition from Above:\n",
    "    #   flatten(x_tensor)\n",
    "    flattened = flatten(x_tensor)\n",
    "    \n",
    "\n",
    "    # TODO: Apply 1, 2, or 3 Fully Connected Layers\n",
    "    #    Play around with different number of outputs\n",
    "    # Function Definition from Above:\n",
    "    #   fully_conn(x_tensor, num_outputs)\n",
    "    num_outputs = 100\n",
    "    x_tensor = fully_conn(flattened, num_outputs)\n",
    "    x_tensor = tf.nn.dropout(x_tensor, keep_prob)\n",
    "    num_outputs = 100\n",
    "    x_tensor = fully_conn(x_tensor, num_outputs)\n",
    "    \n",
    "    \n",
    "    # TODO: Apply an Output Layer\n",
    "    #    Set this to the number of classes\n",
    "    # Function Definition from Above:\n",
    "    #   output(x_tensor, num_outputs)\n",
    "    num_outputs = 10\n",
    "    logits = output(x_tensor, num_outputs)\n",
    "    \n",
    "    # TODO: return output\n",
    "    return logits\n",
    "\n",
    "\n",
    "\"\"\"\n",
    "DON'T MODIFY ANYTHING IN THIS CELL THAT IS BELOW THIS LINE\n",
    "\"\"\"\n",
    "\n",
    "##############################\n",
    "## Build the Neural Network ##\n",
    "##############################\n",
    "\n",
    "# Remove previous weights, bias, inputs, etc..\n",
    "tf.reset_default_graph()\n",
    "\n",
    "# Inputs\n",
    "x = neural_net_image_input((32, 32, 3))\n",
    "y = neural_net_label_input(10)\n",
    "keep_prob = neural_net_keep_prob_input()\n",
    "\n",
    "# Model\n",
    "logits = conv_net(x, keep_prob)\n",
    "\n",
    "# Name logits Tensor, so that is can be loaded from disk after training\n",
    "logits = tf.identity(logits, name='logits')\n",
    "\n",
    "# Loss and Optimizer\n",
    "cost = tf.reduce_mean(tf.nn.softmax_cross_entropy_with_logits(logits=logits, labels=y))\n",
    "optimizer = tf.train.AdamOptimizer().minimize(cost)\n",
    "\n",
    "# Accuracy\n",
    "correct_pred = tf.equal(tf.argmax(logits, 1), tf.argmax(y, 1))\n",
    "accuracy = tf.reduce_mean(tf.cast(correct_pred, tf.float32), name='accuracy')\n",
    "\n",
    "tests.test_conv_net(conv_net)"
   ]
  },
  {
   "cell_type": "markdown",
   "metadata": {},
   "source": [
    "## Train the Neural Network\n",
    "### Single Optimization\n",
    "Implement the function `train_neural_network` to do a single optimization.  The optimization should use `optimizer` to optimize in `session` with a `feed_dict` of the following:\n",
    "* `x` for image input\n",
    "* `y` for labels\n",
    "* `keep_prob` for keep probability for dropout\n",
    "\n",
    "This function will be called for each batch, so `tf.global_variables_initializer()` has already been called.\n",
    "\n",
    "Note: Nothing needs to be returned. This function is only optimizing the neural network."
   ]
  },
  {
   "cell_type": "code",
   "execution_count": 22,
   "metadata": {
    "collapsed": false
   },
   "outputs": [
    {
     "name": "stdout",
     "output_type": "stream",
     "text": [
      "Tests Passed\n"
     ]
    }
   ],
   "source": [
    "def train_neural_network(session, optimizer, keep_probability, feature_batch, label_batch):\n",
    "    \"\"\"\n",
    "    Optimize the session on a batch of images and labels\n",
    "    : session: Current TensorFlow session\n",
    "    : optimizer: TensorFlow optimizer function\n",
    "    : keep_probability: keep probability\n",
    "    : feature_batch: Batch of Numpy image data\n",
    "    : label_batch: Batch of Numpy label data\n",
    "    \"\"\"\n",
    "    # TODO: Implement Function\n",
    "    session.run(optimizer, feed_dict={x: feature_batch, y: label_batch, keep_prob: keep_probability})\n",
    "\n",
    "\n",
    "\"\"\"\n",
    "DON'T MODIFY ANYTHING IN THIS CELL THAT IS BELOW THIS LINE\n",
    "\"\"\"\n",
    "tests.test_train_nn(train_neural_network)"
   ]
  },
  {
   "cell_type": "markdown",
   "metadata": {},
   "source": [
    "### Show Stats\n",
    "Implement the function `print_stats` to print loss and validation accuracy.  Use the global variables `valid_features` and `valid_labels` to calculate validation accuracy.  Use a keep probability of `1.0` to calculate the loss and validation accuracy."
   ]
  },
  {
   "cell_type": "code",
   "execution_count": 23,
   "metadata": {
    "collapsed": false
   },
   "outputs": [],
   "source": [
    "def print_stats(session, feature_batch, label_batch, cost, accuracy):\n",
    "    \"\"\"\n",
    "    Print information about loss and validation accuracy\n",
    "    : session: Current TensorFlow session\n",
    "    : feature_batch: Batch of Numpy image data\n",
    "    : label_batch: Batch of Numpy label data\n",
    "    : cost: TensorFlow cost function\n",
    "    : accuracy: TensorFlow accuracy function\n",
    "    \"\"\"\n",
    "    # TODO: Implement Function\n",
    "    current_cost = session.run(cost, feed_dict={x: feature_batch, y: label_batch, keep_prob: 1})\n",
    "    \n",
    "    valid_accuracy = session.run(accuracy, feed_dict={x: valid_features, y: valid_labels, keep_prob: 1})\n",
    "    \n",
    "    print('Cost: {} Accuracy: {}'.format(current_cost, valid_accuracy))"
   ]
  },
  {
   "cell_type": "markdown",
   "metadata": {},
   "source": [
    "### Hyperparameters\n",
    "Tune the following parameters:\n",
    "* Set `epochs` to the number of iterations until the network stops learning or start overfitting\n",
    "* Set `batch_size` to the highest number that your machine has memory for.  Most people set them to common sizes of memory:\n",
    " * 64\n",
    " * 128\n",
    " * 256\n",
    " * ...\n",
    "* Set `keep_probability` to the probability of keeping a node using dropout"
   ]
  },
  {
   "cell_type": "code",
   "execution_count": 25,
   "metadata": {
    "collapsed": true
   },
   "outputs": [],
   "source": [
    "# TODO: Tune Parameters\n",
    "epochs = 35\n",
    "batch_size = 128\n",
    "keep_probability = 0.5"
   ]
  },
  {
   "cell_type": "markdown",
   "metadata": {},
   "source": [
    "### Train on a Single CIFAR-10 Batch\n",
    "Instead of training the neural network on all the CIFAR-10 batches of data, let's use a single batch. This should save time while you iterate on the model to get a better accuracy.  Once the final validation accuracy is 50% or greater, run the model on all the data in the next section."
   ]
  },
  {
   "cell_type": "code",
   "execution_count": 26,
   "metadata": {
    "collapsed": false
   },
   "outputs": [
    {
     "name": "stdout",
     "output_type": "stream",
     "text": [
      "Checking the Training on a Single Batch...\n",
      "Epoch  1, CIFAR-10 Batch 1:  Cost: 2.113706111907959 Accuracy: 0.2818000018596649\n",
      "Epoch  2, CIFAR-10 Batch 1:  Cost: 1.9818233251571655 Accuracy: 0.36820000410079956\n",
      "Epoch  3, CIFAR-10 Batch 1:  Cost: 1.846731185913086 Accuracy: 0.40779998898506165\n",
      "Epoch  4, CIFAR-10 Batch 1:  Cost: 1.6840591430664062 Accuracy: 0.44279998540878296\n",
      "Epoch  5, CIFAR-10 Batch 1:  Cost: 1.6342140436172485 Accuracy: 0.46219998598098755\n",
      "Epoch  6, CIFAR-10 Batch 1:  Cost: 1.5111961364746094 Accuracy: 0.4699999988079071\n",
      "Epoch  7, CIFAR-10 Batch 1:  Cost: 1.4398220777511597 Accuracy: 0.48739999532699585\n",
      "Epoch  8, CIFAR-10 Batch 1:  Cost: 1.3793036937713623 Accuracy: 0.503600001335144\n",
      "Epoch  9, CIFAR-10 Batch 1:  Cost: 1.273753046989441 Accuracy: 0.5171999931335449\n",
      "Epoch 10, CIFAR-10 Batch 1:  Cost: 1.2729284763336182 Accuracy: 0.5095999836921692\n",
      "Epoch 11, CIFAR-10 Batch 1:  Cost: 1.158996343612671 Accuracy: 0.5303999781608582\n",
      "Epoch 12, CIFAR-10 Batch 1:  Cost: 1.0594046115875244 Accuracy: 0.555400013923645\n",
      "Epoch 13, CIFAR-10 Batch 1:  Cost: 1.0658161640167236 Accuracy: 0.5461999773979187\n",
      "Epoch 14, CIFAR-10 Batch 1:  Cost: 1.0104535818099976 Accuracy: 0.5637999773025513\n",
      "Epoch 15, CIFAR-10 Batch 1:  Cost: 0.9122608304023743 Accuracy: 0.5551999807357788\n",
      "Epoch 16, CIFAR-10 Batch 1:  Cost: 0.8995018005371094 Accuracy: 0.5702000260353088\n",
      "Epoch 17, CIFAR-10 Batch 1:  Cost: 0.8701174855232239 Accuracy: 0.5774000287055969\n",
      "Epoch 18, CIFAR-10 Batch 1:  Cost: 0.8049796223640442 Accuracy: 0.5852000117301941\n",
      "Epoch 19, CIFAR-10 Batch 1:  Cost: 0.767505407333374 Accuracy: 0.5781999826431274\n",
      "Epoch 20, CIFAR-10 Batch 1:  Cost: 0.7370027899742126 Accuracy: 0.5835999846458435\n",
      "Epoch 21, CIFAR-10 Batch 1:  Cost: 0.7122772932052612 Accuracy: 0.5866000056266785\n",
      "Epoch 22, CIFAR-10 Batch 1:  Cost: 0.6456539034843445 Accuracy: 0.5911999940872192\n",
      "Epoch 23, CIFAR-10 Batch 1:  Cost: 0.6368179321289062 Accuracy: 0.5917999744415283\n",
      "Epoch 24, CIFAR-10 Batch 1:  Cost: 0.6382274627685547 Accuracy: 0.5996000170707703\n",
      "Epoch 25, CIFAR-10 Batch 1:  Cost: 0.5987558960914612 Accuracy: 0.6010000109672546\n",
      "Epoch 26, CIFAR-10 Batch 1:  Cost: 0.5498256683349609 Accuracy: 0.6123999953269958\n",
      "Epoch 27, CIFAR-10 Batch 1:  Cost: 0.5351410508155823 Accuracy: 0.6100000143051147\n",
      "Epoch 28, CIFAR-10 Batch 1:  Cost: 0.4867182672023773 Accuracy: 0.5960000157356262\n",
      "Epoch 29, CIFAR-10 Batch 1:  Cost: 0.46893906593322754 Accuracy: 0.5996000170707703\n",
      "Epoch 30, CIFAR-10 Batch 1:  Cost: 0.4517993927001953 Accuracy: 0.6057999730110168\n",
      "Epoch 31, CIFAR-10 Batch 1:  Cost: 0.46782606840133667 Accuracy: 0.6115999817848206\n",
      "Epoch 32, CIFAR-10 Batch 1:  Cost: 0.4527583122253418 Accuracy: 0.6141999959945679\n",
      "Epoch 33, CIFAR-10 Batch 1:  Cost: 0.39336323738098145 Accuracy: 0.623199999332428\n",
      "Epoch 34, CIFAR-10 Batch 1:  Cost: 0.3975633978843689 Accuracy: 0.6194000244140625\n",
      "Epoch 35, CIFAR-10 Batch 1:  Cost: 0.3856898546218872 Accuracy: 0.6237999796867371\n"
     ]
    }
   ],
   "source": [
    "\"\"\"\n",
    "DON'T MODIFY ANYTHING IN THIS CELL\n",
    "\"\"\"\n",
    "print('Checking the Training on a Single Batch...')\n",
    "with tf.Session() as sess:\n",
    "    # Initializing the variables\n",
    "    sess.run(tf.global_variables_initializer())\n",
    "    \n",
    "    # Training cycle\n",
    "    for epoch in range(epochs):\n",
    "        batch_i = 1\n",
    "        for batch_features, batch_labels in helper.load_preprocess_training_batch(batch_i, batch_size):\n",
    "            train_neural_network(sess, optimizer, keep_probability, batch_features, batch_labels)\n",
    "        print('Epoch {:>2}, CIFAR-10 Batch {}:  '.format(epoch + 1, batch_i), end='')\n",
    "        print_stats(sess, batch_features, batch_labels, cost, accuracy)"
   ]
  },
  {
   "cell_type": "markdown",
   "metadata": {},
   "source": [
    "### Fully Train the Model\n",
    "Now that you got a good accuracy with a single CIFAR-10 batch, try it with all five batches."
   ]
  },
  {
   "cell_type": "code",
   "execution_count": 27,
   "metadata": {
    "collapsed": false
   },
   "outputs": [
    {
     "name": "stdout",
     "output_type": "stream",
     "text": [
      "Training...\n",
      "Epoch  1, CIFAR-10 Batch 1:  Cost: 2.1856634616851807 Accuracy: 0.2680000066757202\n",
      "Epoch  1, CIFAR-10 Batch 2:  Cost: 1.7785580158233643 Accuracy: 0.33799999952316284\n",
      "Epoch  1, CIFAR-10 Batch 3:  Cost: 1.5337193012237549 Accuracy: 0.382999986410141\n",
      "Epoch  1, CIFAR-10 Batch 4:  Cost: 1.5971927642822266 Accuracy: 0.42179998755455017\n",
      "Epoch  1, CIFAR-10 Batch 5:  Cost: 1.5900402069091797 Accuracy: 0.4496000111103058\n",
      "Epoch  2, CIFAR-10 Batch 1:  Cost: 1.7335834503173828 Accuracy: 0.47119998931884766\n",
      "Epoch  2, CIFAR-10 Batch 2:  Cost: 1.4285762310028076 Accuracy: 0.46700000762939453\n",
      "Epoch  2, CIFAR-10 Batch 3:  Cost: 1.187903642654419 Accuracy: 0.47999998927116394\n",
      "Epoch  2, CIFAR-10 Batch 4:  Cost: 1.3401988744735718 Accuracy: 0.4975999891757965\n",
      "Epoch  2, CIFAR-10 Batch 5:  Cost: 1.382651925086975 Accuracy: 0.5239999890327454\n",
      "Epoch  3, CIFAR-10 Batch 1:  Cost: 1.4673055410385132 Accuracy: 0.5306000113487244\n",
      "Epoch  3, CIFAR-10 Batch 2:  Cost: 1.3163601160049438 Accuracy: 0.5307999849319458\n",
      "Epoch  3, CIFAR-10 Batch 3:  Cost: 1.071980357170105 Accuracy: 0.5343999862670898\n",
      "Epoch  3, CIFAR-10 Batch 4:  Cost: 1.2162678241729736 Accuracy: 0.550000011920929\n",
      "Epoch  3, CIFAR-10 Batch 5:  Cost: 1.2726047039031982 Accuracy: 0.5569999814033508\n",
      "Epoch  4, CIFAR-10 Batch 1:  Cost: 1.2499126195907593 Accuracy: 0.5658000111579895\n",
      "Epoch  4, CIFAR-10 Batch 2:  Cost: 1.1714551448822021 Accuracy: 0.5618000030517578\n",
      "Epoch  4, CIFAR-10 Batch 3:  Cost: 1.0427817106246948 Accuracy: 0.5676000118255615\n",
      "Epoch  4, CIFAR-10 Batch 4:  Cost: 1.017102599143982 Accuracy: 0.5866000056266785\n",
      "Epoch  4, CIFAR-10 Batch 5:  Cost: 1.1946611404418945 Accuracy: 0.5781999826431274\n",
      "Epoch  5, CIFAR-10 Batch 1:  Cost: 1.1654167175292969 Accuracy: 0.605400025844574\n",
      "Epoch  5, CIFAR-10 Batch 2:  Cost: 1.1299501657485962 Accuracy: 0.6087999939918518\n",
      "Epoch  5, CIFAR-10 Batch 3:  Cost: 0.9661776423454285 Accuracy: 0.5907999873161316\n",
      "Epoch  5, CIFAR-10 Batch 4:  Cost: 0.8917878866195679 Accuracy: 0.618399977684021\n",
      "Epoch  5, CIFAR-10 Batch 5:  Cost: 1.105414628982544 Accuracy: 0.5875999927520752\n",
      "Epoch  6, CIFAR-10 Batch 1:  Cost: 0.9606063961982727 Accuracy: 0.6078000068664551\n",
      "Epoch  6, CIFAR-10 Batch 2:  Cost: 1.0552780628204346 Accuracy: 0.6194000244140625\n",
      "Epoch  6, CIFAR-10 Batch 3:  Cost: 0.826150119304657 Accuracy: 0.628600001335144\n",
      "Epoch  6, CIFAR-10 Batch 4:  Cost: 0.8555806875228882 Accuracy: 0.6399999856948853\n",
      "Epoch  6, CIFAR-10 Batch 5:  Cost: 0.9795107841491699 Accuracy: 0.6304000020027161\n",
      "Epoch  7, CIFAR-10 Batch 1:  Cost: 0.9722992777824402 Accuracy: 0.6341999769210815\n",
      "Epoch  7, CIFAR-10 Batch 2:  Cost: 0.9504356384277344 Accuracy: 0.6399999856948853\n",
      "Epoch  7, CIFAR-10 Batch 3:  Cost: 0.7022498250007629 Accuracy: 0.6462000012397766\n",
      "Epoch  7, CIFAR-10 Batch 4:  Cost: 0.766502320766449 Accuracy: 0.6521999835968018\n",
      "Epoch  7, CIFAR-10 Batch 5:  Cost: 0.8753808736801147 Accuracy: 0.644599974155426\n",
      "Epoch  8, CIFAR-10 Batch 1:  Cost: 0.8423961400985718 Accuracy: 0.6305999755859375\n",
      "Epoch  8, CIFAR-10 Batch 2:  Cost: 0.8695098757743835 Accuracy: 0.642799973487854\n",
      "Epoch  8, CIFAR-10 Batch 3:  Cost: 0.708448052406311 Accuracy: 0.6485999822616577\n",
      "Epoch  8, CIFAR-10 Batch 4:  Cost: 0.8037751913070679 Accuracy: 0.6660000085830688\n",
      "Epoch  8, CIFAR-10 Batch 5:  Cost: 0.7958974838256836 Accuracy: 0.6525999903678894\n",
      "Epoch  9, CIFAR-10 Batch 1:  Cost: 0.7812371850013733 Accuracy: 0.6480000019073486\n",
      "Epoch  9, CIFAR-10 Batch 2:  Cost: 0.7758200764656067 Accuracy: 0.6592000126838684\n",
      "Epoch  9, CIFAR-10 Batch 3:  Cost: 0.6307075619697571 Accuracy: 0.6718000173568726\n",
      "Epoch  9, CIFAR-10 Batch 4:  Cost: 0.6887404918670654 Accuracy: 0.6746000051498413\n",
      "Epoch  9, CIFAR-10 Batch 5:  Cost: 0.7319618463516235 Accuracy: 0.670799970626831\n",
      "Epoch 10, CIFAR-10 Batch 1:  Cost: 0.6946887373924255 Accuracy: 0.6628000140190125\n",
      "Epoch 10, CIFAR-10 Batch 2:  Cost: 0.741544246673584 Accuracy: 0.6690000295639038\n",
      "Epoch 10, CIFAR-10 Batch 3:  Cost: 0.6156119108200073 Accuracy: 0.6700000166893005\n",
      "Epoch 10, CIFAR-10 Batch 4:  Cost: 0.7040106058120728 Accuracy: 0.6647999882698059\n",
      "Epoch 10, CIFAR-10 Batch 5:  Cost: 0.6319276690483093 Accuracy: 0.6761999726295471\n",
      "Epoch 11, CIFAR-10 Batch 1:  Cost: 0.6954609155654907 Accuracy: 0.6728000044822693\n",
      "Epoch 11, CIFAR-10 Batch 2:  Cost: 0.6181992292404175 Accuracy: 0.6808000206947327\n",
      "Epoch 11, CIFAR-10 Batch 3:  Cost: 0.5371989011764526 Accuracy: 0.6836000084877014\n",
      "Epoch 11, CIFAR-10 Batch 4:  Cost: 0.5949317216873169 Accuracy: 0.6759999990463257\n",
      "Epoch 11, CIFAR-10 Batch 5:  Cost: 0.6332268118858337 Accuracy: 0.6830000281333923\n",
      "Epoch 12, CIFAR-10 Batch 1:  Cost: 0.6539508700370789 Accuracy: 0.6765999794006348\n",
      "Epoch 12, CIFAR-10 Batch 2:  Cost: 0.5896012187004089 Accuracy: 0.6991999745368958\n",
      "Epoch 12, CIFAR-10 Batch 3:  Cost: 0.49299106001853943 Accuracy: 0.6873999834060669\n",
      "Epoch 12, CIFAR-10 Batch 4:  Cost: 0.5664263963699341 Accuracy: 0.6869999766349792\n",
      "Epoch 12, CIFAR-10 Batch 5:  Cost: 0.5627816319465637 Accuracy: 0.6901999711990356\n",
      "Epoch 13, CIFAR-10 Batch 1:  Cost: 0.6180251836776733 Accuracy: 0.6790000200271606\n",
      "Epoch 13, CIFAR-10 Batch 2:  Cost: 0.5608261227607727 Accuracy: 0.7006000280380249\n",
      "Epoch 13, CIFAR-10 Batch 3:  Cost: 0.47134631872177124 Accuracy: 0.6940000057220459\n",
      "Epoch 13, CIFAR-10 Batch 4:  Cost: 0.5145977735519409 Accuracy: 0.6869999766349792\n",
      "Epoch 13, CIFAR-10 Batch 5:  Cost: 0.5374122858047485 Accuracy: 0.6926000118255615\n",
      "Epoch 14, CIFAR-10 Batch 1:  Cost: 0.5503032803535461 Accuracy: 0.6859999895095825\n",
      "Epoch 14, CIFAR-10 Batch 2:  Cost: 0.524604082107544 Accuracy: 0.7085999846458435\n",
      "Epoch 14, CIFAR-10 Batch 3:  Cost: 0.42205411195755005 Accuracy: 0.699400007724762\n",
      "Epoch 14, CIFAR-10 Batch 4:  Cost: 0.5002006888389587 Accuracy: 0.6877999901771545\n",
      "Epoch 14, CIFAR-10 Batch 5:  Cost: 0.4951360821723938 Accuracy: 0.7024000287055969\n",
      "Epoch 15, CIFAR-10 Batch 1:  Cost: 0.5458124279975891 Accuracy: 0.7009999752044678\n",
      "Epoch 15, CIFAR-10 Batch 2:  Cost: 0.4509943425655365 Accuracy: 0.7117999792098999\n",
      "Epoch 15, CIFAR-10 Batch 3:  Cost: 0.40799492597579956 Accuracy: 0.7117999792098999\n",
      "Epoch 15, CIFAR-10 Batch 4:  Cost: 0.4608991742134094 Accuracy: 0.6826000213623047\n",
      "Epoch 15, CIFAR-10 Batch 5:  Cost: 0.42773929238319397 Accuracy: 0.7020000219345093\n",
      "Epoch 16, CIFAR-10 Batch 1:  Cost: 0.5163310170173645 Accuracy: 0.694599986076355\n",
      "Epoch 16, CIFAR-10 Batch 2:  Cost: 0.4434547424316406 Accuracy: 0.7093999981880188\n",
      "Epoch 16, CIFAR-10 Batch 3:  Cost: 0.4124043881893158 Accuracy: 0.7063999772071838\n",
      "Epoch 16, CIFAR-10 Batch 4:  Cost: 0.47597846388816833 Accuracy: 0.6898000240325928\n",
      "Epoch 16, CIFAR-10 Batch 5:  Cost: 0.4329736828804016 Accuracy: 0.6887999773025513\n",
      "Epoch 17, CIFAR-10 Batch 1:  Cost: 0.4819745123386383 Accuracy: 0.698199987411499\n",
      "Epoch 17, CIFAR-10 Batch 2:  Cost: 0.41950541734695435 Accuracy: 0.7148000001907349\n",
      "Epoch 17, CIFAR-10 Batch 3:  Cost: 0.3771710693836212 Accuracy: 0.70660001039505\n",
      "Epoch 17, CIFAR-10 Batch 4:  Cost: 0.445063054561615 Accuracy: 0.6937999725341797\n",
      "Epoch 17, CIFAR-10 Batch 5:  Cost: 0.41345301270484924 Accuracy: 0.7093999981880188\n",
      "Epoch 18, CIFAR-10 Batch 1:  Cost: 0.4857562184333801 Accuracy: 0.7098000049591064\n",
      "Epoch 18, CIFAR-10 Batch 2:  Cost: 0.39603739976882935 Accuracy: 0.7148000001907349\n",
      "Epoch 18, CIFAR-10 Batch 3:  Cost: 0.344637006521225 Accuracy: 0.7121999859809875\n",
      "Epoch 18, CIFAR-10 Batch 4:  Cost: 0.3942382335662842 Accuracy: 0.7044000029563904\n",
      "Epoch 18, CIFAR-10 Batch 5:  Cost: 0.34732890129089355 Accuracy: 0.7075999975204468\n",
      "Epoch 19, CIFAR-10 Batch 1:  Cost: 0.45478224754333496 Accuracy: 0.701200008392334\n",
      "Epoch 19, CIFAR-10 Batch 2:  Cost: 0.38788023591041565 Accuracy: 0.7135999798774719\n",
      "Epoch 19, CIFAR-10 Batch 3:  Cost: 0.30554458498954773 Accuracy: 0.7152000069618225\n",
      "Epoch 19, CIFAR-10 Batch 4:  Cost: 0.3757488429546356 Accuracy: 0.703000009059906\n",
      "Epoch 19, CIFAR-10 Batch 5:  Cost: 0.34619560837745667 Accuracy: 0.7107999920845032\n",
      "Epoch 20, CIFAR-10 Batch 1:  Cost: 0.464030921459198 Accuracy: 0.7034000158309937\n",
      "Epoch 20, CIFAR-10 Batch 2:  Cost: 0.3223647177219391 Accuracy: 0.7210000157356262\n",
      "Epoch 20, CIFAR-10 Batch 3:  Cost: 0.31058141589164734 Accuracy: 0.7161999940872192\n",
      "Epoch 20, CIFAR-10 Batch 4:  Cost: 0.3830599784851074 Accuracy: 0.7056000232696533\n",
      "Epoch 20, CIFAR-10 Batch 5:  Cost: 0.32748085260391235 Accuracy: 0.7049999833106995\n",
      "Epoch 21, CIFAR-10 Batch 1:  Cost: 0.43979930877685547 Accuracy: 0.7075999975204468\n",
      "Epoch 21, CIFAR-10 Batch 2:  Cost: 0.3212871849536896 Accuracy: 0.7192000150680542\n",
      "Epoch 21, CIFAR-10 Batch 3:  Cost: 0.28009313344955444 Accuracy: 0.7215999960899353\n",
      "Epoch 21, CIFAR-10 Batch 4:  Cost: 0.36522889137268066 Accuracy: 0.7149999737739563\n",
      "Epoch 21, CIFAR-10 Batch 5:  Cost: 0.3260952830314636 Accuracy: 0.7134000062942505\n",
      "Epoch 22, CIFAR-10 Batch 1:  Cost: 0.3757120966911316 Accuracy: 0.7210000157356262\n",
      "Epoch 22, CIFAR-10 Batch 2:  Cost: 0.33026716113090515 Accuracy: 0.7229999899864197\n",
      "Epoch 22, CIFAR-10 Batch 3:  Cost: 0.30296215415000916 Accuracy: 0.7161999940872192\n",
      "Epoch 22, CIFAR-10 Batch 4:  Cost: 0.3517901301383972 Accuracy: 0.7185999751091003\n",
      "Epoch 22, CIFAR-10 Batch 5:  Cost: 0.27472758293151855 Accuracy: 0.7129999995231628\n",
      "Epoch 23, CIFAR-10 Batch 1:  Cost: 0.3583828806877136 Accuracy: 0.7089999914169312\n",
      "Epoch 23, CIFAR-10 Batch 2:  Cost: 0.2958484888076782 Accuracy: 0.7311999797821045\n",
      "Epoch 23, CIFAR-10 Batch 3:  Cost: 0.2980307340621948 Accuracy: 0.7166000008583069\n",
      "Epoch 23, CIFAR-10 Batch 4:  Cost: 0.30896440148353577 Accuracy: 0.7192000150680542\n",
      "Epoch 23, CIFAR-10 Batch 5:  Cost: 0.2803938388824463 Accuracy: 0.7016000151634216\n",
      "Epoch 24, CIFAR-10 Batch 1:  Cost: 0.3604055941104889 Accuracy: 0.699999988079071\n",
      "Epoch 24, CIFAR-10 Batch 2:  Cost: 0.3198480010032654 Accuracy: 0.7103999853134155\n",
      "Epoch 24, CIFAR-10 Batch 3:  Cost: 0.2625008225440979 Accuracy: 0.7215999960899353\n",
      "Epoch 24, CIFAR-10 Batch 4:  Cost: 0.28197595477104187 Accuracy: 0.722599983215332\n",
      "Epoch 24, CIFAR-10 Batch 5:  Cost: 0.2778777778148651 Accuracy: 0.7178000211715698\n",
      "Epoch 25, CIFAR-10 Batch 1:  Cost: 0.33170706033706665 Accuracy: 0.7156000137329102\n",
      "Epoch 25, CIFAR-10 Batch 2:  Cost: 0.2629844546318054 Accuracy: 0.7107999920845032\n",
      "Epoch 25, CIFAR-10 Batch 3:  Cost: 0.2474428117275238 Accuracy: 0.718999981880188\n",
      "Epoch 25, CIFAR-10 Batch 4:  Cost: 0.2839750647544861 Accuracy: 0.7224000096321106\n",
      "Epoch 25, CIFAR-10 Batch 5:  Cost: 0.30547651648521423 Accuracy: 0.7166000008583069\n",
      "Epoch 26, CIFAR-10 Batch 1:  Cost: 0.3090641498565674 Accuracy: 0.7044000029563904\n",
      "Epoch 26, CIFAR-10 Batch 2:  Cost: 0.2812824845314026 Accuracy: 0.7142000198364258\n",
      "Epoch 26, CIFAR-10 Batch 3:  Cost: 0.2302359640598297 Accuracy: 0.7184000015258789\n",
      "Epoch 26, CIFAR-10 Batch 4:  Cost: 0.26857709884643555 Accuracy: 0.7128000259399414\n",
      "Epoch 26, CIFAR-10 Batch 5:  Cost: 0.28580600023269653 Accuracy: 0.7074000239372253\n",
      "Epoch 27, CIFAR-10 Batch 1:  Cost: 0.3384060561656952 Accuracy: 0.7161999940872192\n",
      "Epoch 27, CIFAR-10 Batch 2:  Cost: 0.280975878238678 Accuracy: 0.7260000109672546\n",
      "Epoch 27, CIFAR-10 Batch 3:  Cost: 0.23784565925598145 Accuracy: 0.7192000150680542\n",
      "Epoch 27, CIFAR-10 Batch 4:  Cost: 0.25015944242477417 Accuracy: 0.7271999716758728\n",
      "Epoch 27, CIFAR-10 Batch 5:  Cost: 0.26491039991378784 Accuracy: 0.7088000178337097\n",
      "Epoch 28, CIFAR-10 Batch 1:  Cost: 0.30359962582588196 Accuracy: 0.7296000123023987\n",
      "Epoch 28, CIFAR-10 Batch 2:  Cost: 0.2520144283771515 Accuracy: 0.7251999974250793\n",
      "Epoch 28, CIFAR-10 Batch 3:  Cost: 0.25512510538101196 Accuracy: 0.7139999866485596\n",
      "Epoch 28, CIFAR-10 Batch 4:  Cost: 0.2287147492170334 Accuracy: 0.7278000116348267\n",
      "Epoch 28, CIFAR-10 Batch 5:  Cost: 0.26560744643211365 Accuracy: 0.7196000218391418\n",
      "Epoch 29, CIFAR-10 Batch 1:  Cost: 0.290532648563385 Accuracy: 0.7215999960899353\n",
      "Epoch 29, CIFAR-10 Batch 2:  Cost: 0.24721693992614746 Accuracy: 0.7264000177383423\n",
      "Epoch 29, CIFAR-10 Batch 3:  Cost: 0.22241897881031036 Accuracy: 0.7135999798774719\n",
      "Epoch 29, CIFAR-10 Batch 4:  Cost: 0.2985820770263672 Accuracy: 0.7282000184059143\n",
      "Epoch 29, CIFAR-10 Batch 5:  Cost: 0.22793999314308167 Accuracy: 0.722599983215332\n",
      "Epoch 30, CIFAR-10 Batch 1:  Cost: 0.27364009618759155 Accuracy: 0.7188000082969666\n",
      "Epoch 30, CIFAR-10 Batch 2:  Cost: 0.21195928752422333 Accuracy: 0.7289999723434448\n",
      "Epoch 30, CIFAR-10 Batch 3:  Cost: 0.2293476164340973 Accuracy: 0.7297999858856201\n",
      "Epoch 30, CIFAR-10 Batch 4:  Cost: 0.23958230018615723 Accuracy: 0.7193999886512756\n",
      "Epoch 30, CIFAR-10 Batch 5:  Cost: 0.20320841670036316 Accuracy: 0.7203999757766724\n",
      "Epoch 31, CIFAR-10 Batch 1:  Cost: 0.2611163556575775 Accuracy: 0.7233999967575073\n",
      "Epoch 31, CIFAR-10 Batch 2:  Cost: 0.22483596205711365 Accuracy: 0.727400004863739\n",
      "Epoch 31, CIFAR-10 Batch 3:  Cost: 0.2128291130065918 Accuracy: 0.7125999927520752\n",
      "Epoch 31, CIFAR-10 Batch 4:  Cost: 0.2792498767375946 Accuracy: 0.7224000096321106\n",
      "Epoch 31, CIFAR-10 Batch 5:  Cost: 0.19821643829345703 Accuracy: 0.7188000082969666\n",
      "Epoch 32, CIFAR-10 Batch 1:  Cost: 0.2532503604888916 Accuracy: 0.7062000036239624\n",
      "Epoch 32, CIFAR-10 Batch 2:  Cost: 0.23219795525074005 Accuracy: 0.7211999893188477\n",
      "Epoch 32, CIFAR-10 Batch 3:  Cost: 0.23496195673942566 Accuracy: 0.7175999879837036\n",
      "Epoch 32, CIFAR-10 Batch 4:  Cost: 0.262472927570343 Accuracy: 0.7202000021934509\n",
      "Epoch 32, CIFAR-10 Batch 5:  Cost: 0.2603338658809662 Accuracy: 0.7215999960899353\n",
      "Epoch 33, CIFAR-10 Batch 1:  Cost: 0.21984544396400452 Accuracy: 0.7203999757766724\n",
      "Epoch 33, CIFAR-10 Batch 2:  Cost: 0.21524938941001892 Accuracy: 0.7179999947547913\n",
      "Epoch 33, CIFAR-10 Batch 3:  Cost: 0.18336693942546844 Accuracy: 0.7139999866485596\n",
      "Epoch 33, CIFAR-10 Batch 4:  Cost: 0.3095048666000366 Accuracy: 0.7184000015258789\n",
      "Epoch 33, CIFAR-10 Batch 5:  Cost: 0.20521435141563416 Accuracy: 0.7206000089645386\n",
      "Epoch 34, CIFAR-10 Batch 1:  Cost: 0.3026058077812195 Accuracy: 0.7224000096321106\n",
      "Epoch 34, CIFAR-10 Batch 2:  Cost: 0.21235230565071106 Accuracy: 0.7261999845504761\n",
      "Epoch 34, CIFAR-10 Batch 3:  Cost: 0.19005587697029114 Accuracy: 0.723800003528595\n",
      "Epoch 34, CIFAR-10 Batch 4:  Cost: 0.27531957626342773 Accuracy: 0.717199981212616\n",
      "Epoch 34, CIFAR-10 Batch 5:  Cost: 0.20461443066596985 Accuracy: 0.7200000286102295\n",
      "Epoch 35, CIFAR-10 Batch 1:  Cost: 0.20632605254650116 Accuracy: 0.723800003528595\n",
      "Epoch 35, CIFAR-10 Batch 2:  Cost: 0.2041701376438141 Accuracy: 0.7293999791145325\n",
      "Epoch 35, CIFAR-10 Batch 3:  Cost: 0.1661435216665268 Accuracy: 0.7210000157356262\n",
      "Epoch 35, CIFAR-10 Batch 4:  Cost: 0.2540537714958191 Accuracy: 0.7124000191688538\n",
      "Epoch 35, CIFAR-10 Batch 5:  Cost: 0.2198781669139862 Accuracy: 0.7233999967575073\n"
     ]
    }
   ],
   "source": [
    "\"\"\"\n",
    "DON'T MODIFY ANYTHING IN THIS CELL\n",
    "\"\"\"\n",
    "save_model_path = './image_classification'\n",
    "\n",
    "print('Training...')\n",
    "with tf.Session() as sess:\n",
    "    # Initializing the variables\n",
    "    sess.run(tf.global_variables_initializer())\n",
    "    \n",
    "    # Training cycle\n",
    "    for epoch in range(epochs):\n",
    "        # Loop over all batches\n",
    "        n_batches = 5\n",
    "        for batch_i in range(1, n_batches + 1):\n",
    "            for batch_features, batch_labels in helper.load_preprocess_training_batch(batch_i, batch_size):\n",
    "                train_neural_network(sess, optimizer, keep_probability, batch_features, batch_labels)\n",
    "            print('Epoch {:>2}, CIFAR-10 Batch {}:  '.format(epoch + 1, batch_i), end='')\n",
    "            print_stats(sess, batch_features, batch_labels, cost, accuracy)\n",
    "            \n",
    "    # Save Model\n",
    "    saver = tf.train.Saver()\n",
    "    save_path = saver.save(sess, save_model_path)"
   ]
  },
  {
   "cell_type": "markdown",
   "metadata": {},
   "source": [
    "# Checkpoint\n",
    "The model has been saved to disk.\n",
    "## Test Model\n",
    "Test your model against the test dataset.  This will be your final accuracy. You should have an accuracy greater than 50%. If you don't, keep tweaking the model architecture and parameters."
   ]
  },
  {
   "cell_type": "code",
   "execution_count": 28,
   "metadata": {
    "collapsed": false
   },
   "outputs": [
    {
     "name": "stdout",
     "output_type": "stream",
     "text": [
      "Testing Accuracy: 0.7178599683544303\n",
      "\n"
     ]
    },
    {
     "data": {
      "image/png": "[encoded data removed]",
      "text/plain": [
       "<matplotlib.figure.Figure at 0x12424b198>"
      ]
     },
     "metadata": {
      "image/png": {
       "height": 319,
       "width": 355
      }
     },
     "output_type": "display_data"
    }
   ],
   "source": [
    "\"\"\"\n",
    "DON'T MODIFY ANYTHING IN THIS CELL\n",
    "\"\"\"\n",
    "%matplotlib inline\n",
    "%config InlineBackend.figure_format = 'retina'\n",
    "\n",
    "import tensorflow as tf\n",
    "import pickle\n",
    "import helper\n",
    "import random\n",
    "\n",
    "# Set batch size if not already set\n",
    "try:\n",
    "    if batch_size:\n",
    "        pass\n",
    "except NameError:\n",
    "    batch_size = 64\n",
    "\n",
    "save_model_path = './image_classification'\n",
    "n_samples = 4\n",
    "top_n_predictions = 3\n",
    "\n",
    "def test_model():\n",
    "    \"\"\"\n",
    "    Test the saved model against the test dataset\n",
    "    \"\"\"\n",
    "\n",
    "    test_features, test_labels = pickle.load(open('preprocess_training.p', mode='rb'))\n",
    "    loaded_graph = tf.Graph()\n",
    "\n",
    "    with tf.Session(graph=loaded_graph) as sess:\n",
    "        # Load model\n",
    "        loader = tf.train.import_meta_graph(save_model_path + '.meta')\n",
    "        loader.restore(sess, save_model_path)\n",
    "\n",
    "        # Get Tensors from loaded model\n",
    "        loaded_x = loaded_graph.get_tensor_by_name('x:0')\n",
    "        loaded_y = loaded_graph.get_tensor_by_name('y:0')\n",
    "        loaded_keep_prob = loaded_graph.get_tensor_by_name('keep_prob:0')\n",
    "        loaded_logits = loaded_graph.get_tensor_by_name('logits:0')\n",
    "        loaded_acc = loaded_graph.get_tensor_by_name('accuracy:0')\n",
    "        \n",
    "        # Get accuracy in batches for memory limitations\n",
    "        test_batch_acc_total = 0\n",
    "        test_batch_count = 0\n",
    "        \n",
    "        for train_feature_batch, train_label_batch in helper.batch_features_labels(test_features, test_labels, batch_size):\n",
    "            test_batch_acc_total += sess.run(\n",
    "                loaded_acc,\n",
    "                feed_dict={loaded_x: train_feature_batch, loaded_y: train_label_batch, loaded_keep_prob: 1.0})\n",
    "            test_batch_count += 1\n",
    "\n",
    "        print('Testing Accuracy: {}\\n'.format(test_batch_acc_total/test_batch_count))\n",
    "\n",
    "        # Print Random Samples\n",
    "        random_test_features, random_test_labels = tuple(zip(*random.sample(list(zip(test_features, test_labels)), n_samples)))\n",
    "        random_test_predictions = sess.run(\n",
    "            tf.nn.top_k(tf.nn.softmax(loaded_logits), top_n_predictions),\n",
    "            feed_dict={loaded_x: random_test_features, loaded_y: random_test_labels, loaded_keep_prob: 1.0})\n",
    "        helper.display_image_predictions(random_test_features, random_test_labels, random_test_predictions)\n",
    "\n",
    "\n",
    "test_model()"
   ]
  },
  {
   "cell_type": "markdown",
   "metadata": {},
   "source": [
    "## Why 50-70% Accuracy?\n",
    "You might be wondering why you can't get an accuracy any higher. First things first, 50% isn't bad for a simple CNN.  Pure guessing would get you 10% accuracy. However, you might notice people are getting scores [well above 70%](http://rodrigob.github.io/are_we_there_yet/build/classification_datasets_results.html#43494641522d3130).  That's because we haven't taught you all there is to know about neural networks. We still need to cover a few more techniques.\n",
    "## Submitting This Project\n",
    "When submitting this project, make sure to run all the cells before saving the notebook.  Save the notebook file as \"dlnd_image_classification.ipynb\" and save it as a HTML file under \"File\" -> \"Download as\".  Include the \"helper.py\" and \"problem_unittests.py\" files in your submission."
   ]
  },
  {
   "cell_type": "code",
   "execution_count": null,
   "metadata": {
    "collapsed": true
   },
   "outputs": [],
   "source": []
  }
 ],
 "metadata": {
  "kernelspec": {
   "display_name": "Python 3",
   "language": "python",
   "name": "python3"
  },
  "language_info": {
   "codemirror_mode": {
    "name": "ipython",
    "version": 3
   },
   "file_extension": ".py",
   "mimetype": "text/x-python",
   "name": "python",
   "nbconvert_exporter": "python",
   "pygments_lexer": "ipython3",
   "version": "3.5.3"
  }
 },
 "nbformat": 4,
 "nbformat_minor": 0
}
